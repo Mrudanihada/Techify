{
 "cells": [
  {
   "cell_type": "code",
   "execution_count": 1,
   "id": "4395b906",
   "metadata": {},
   "outputs": [
    {
     "name": "stdout",
     "output_type": "stream",
     "text": [
      "Requirement already satisfied: pip in ./opt/anaconda3/lib/python3.9/site-packages (23.3.2)\n",
      "Note: you may need to restart the kernel to use updated packages.\n"
     ]
    }
   ],
   "source": [
    "pip install --upgrade pip"
   ]
  },
  {
   "cell_type": "code",
   "execution_count": 2,
   "id": "44f393d5",
   "metadata": {},
   "outputs": [
    {
     "name": "stdout",
     "output_type": "stream",
     "text": [
      "Requirement already satisfied: langchain in ./opt/anaconda3/lib/python3.9/site-packages (0.1.1)\n",
      "Requirement already satisfied: PyYAML>=5.3 in ./opt/anaconda3/lib/python3.9/site-packages (from langchain) (6.0)\n",
      "Requirement already satisfied: SQLAlchemy<3,>=1.4 in ./opt/anaconda3/lib/python3.9/site-packages (from langchain) (1.4.39)\n",
      "Requirement already satisfied: aiohttp<4.0.0,>=3.8.3 in ./opt/anaconda3/lib/python3.9/site-packages (from langchain) (3.9.1)\n",
      "Requirement already satisfied: async-timeout<5.0.0,>=4.0.0 in ./opt/anaconda3/lib/python3.9/site-packages (from langchain) (4.0.3)\n",
      "Requirement already satisfied: dataclasses-json<0.7,>=0.5.7 in ./opt/anaconda3/lib/python3.9/site-packages (from langchain) (0.6.3)\n",
      "Requirement already satisfied: jsonpatch<2.0,>=1.33 in ./opt/anaconda3/lib/python3.9/site-packages (from langchain) (1.33)\n",
      "Requirement already satisfied: langchain-community<0.1,>=0.0.13 in ./opt/anaconda3/lib/python3.9/site-packages (from langchain) (0.0.13)\n",
      "Requirement already satisfied: langchain-core<0.2,>=0.1.9 in ./opt/anaconda3/lib/python3.9/site-packages (from langchain) (0.1.11)\n",
      "Requirement already satisfied: langsmith<0.1.0,>=0.0.77 in ./opt/anaconda3/lib/python3.9/site-packages (from langchain) (0.0.81)\n",
      "Requirement already satisfied: numpy<2,>=1 in ./opt/anaconda3/lib/python3.9/site-packages (from langchain) (1.21.5)\n",
      "Requirement already satisfied: pydantic<3,>=1 in ./opt/anaconda3/lib/python3.9/site-packages (from langchain) (1.10.6)\n",
      "Requirement already satisfied: requests<3,>=2 in ./opt/anaconda3/lib/python3.9/site-packages (from langchain) (2.28.1)\n",
      "Requirement already satisfied: tenacity<9.0.0,>=8.1.0 in ./opt/anaconda3/lib/python3.9/site-packages (from langchain) (8.2.3)\n",
      "Requirement already satisfied: attrs>=17.3.0 in ./opt/anaconda3/lib/python3.9/site-packages (from aiohttp<4.0.0,>=3.8.3->langchain) (21.4.0)\n",
      "Requirement already satisfied: multidict<7.0,>=4.5 in ./opt/anaconda3/lib/python3.9/site-packages (from aiohttp<4.0.0,>=3.8.3->langchain) (6.0.4)\n",
      "Requirement already satisfied: yarl<2.0,>=1.0 in ./opt/anaconda3/lib/python3.9/site-packages (from aiohttp<4.0.0,>=3.8.3->langchain) (1.9.4)\n",
      "Requirement already satisfied: frozenlist>=1.1.1 in ./opt/anaconda3/lib/python3.9/site-packages (from aiohttp<4.0.0,>=3.8.3->langchain) (1.4.1)\n",
      "Requirement already satisfied: aiosignal>=1.1.2 in ./opt/anaconda3/lib/python3.9/site-packages (from aiohttp<4.0.0,>=3.8.3->langchain) (1.3.1)\n",
      "Requirement already satisfied: marshmallow<4.0.0,>=3.18.0 in ./opt/anaconda3/lib/python3.9/site-packages (from dataclasses-json<0.7,>=0.5.7->langchain) (3.20.2)\n",
      "Requirement already satisfied: typing-inspect<1,>=0.4.0 in ./opt/anaconda3/lib/python3.9/site-packages (from dataclasses-json<0.7,>=0.5.7->langchain) (0.9.0)\n",
      "Requirement already satisfied: jsonpointer>=1.9 in ./opt/anaconda3/lib/python3.9/site-packages (from jsonpatch<2.0,>=1.33->langchain) (2.4)\n",
      "Requirement already satisfied: anyio<5,>=3 in ./opt/anaconda3/lib/python3.9/site-packages (from langchain-core<0.2,>=0.1.9->langchain) (3.5.0)\n",
      "Requirement already satisfied: packaging<24.0,>=23.2 in ./opt/anaconda3/lib/python3.9/site-packages (from langchain-core<0.2,>=0.1.9->langchain) (23.2)\n",
      "Requirement already satisfied: typing-extensions>=4.2.0 in ./opt/anaconda3/lib/python3.9/site-packages (from pydantic<3,>=1->langchain) (4.3.0)\n",
      "Requirement already satisfied: charset-normalizer<3,>=2 in ./opt/anaconda3/lib/python3.9/site-packages (from requests<3,>=2->langchain) (2.0.4)\n",
      "Requirement already satisfied: idna<4,>=2.5 in ./opt/anaconda3/lib/python3.9/site-packages (from requests<3,>=2->langchain) (3.3)\n",
      "Requirement already satisfied: urllib3<1.27,>=1.21.1 in ./opt/anaconda3/lib/python3.9/site-packages (from requests<3,>=2->langchain) (1.26.11)\n",
      "Requirement already satisfied: certifi>=2017.4.17 in ./opt/anaconda3/lib/python3.9/site-packages (from requests<3,>=2->langchain) (2022.9.24)\n",
      "Requirement already satisfied: greenlet!=0.4.17 in ./opt/anaconda3/lib/python3.9/site-packages (from SQLAlchemy<3,>=1.4->langchain) (1.1.1)\n",
      "Requirement already satisfied: sniffio>=1.1 in ./opt/anaconda3/lib/python3.9/site-packages (from anyio<5,>=3->langchain-core<0.2,>=0.1.9->langchain) (1.2.0)\n",
      "Requirement already satisfied: mypy-extensions>=0.3.0 in ./opt/anaconda3/lib/python3.9/site-packages (from typing-inspect<1,>=0.4.0->dataclasses-json<0.7,>=0.5.7->langchain) (0.4.3)\n",
      "Note: you may need to restart the kernel to use updated packages.\n"
     ]
    }
   ],
   "source": [
    "pip install langchain"
   ]
  },
  {
   "cell_type": "code",
   "execution_count": 3,
   "id": "b2931a61",
   "metadata": {},
   "outputs": [
    {
     "name": "stdout",
     "output_type": "stream",
     "text": [
      "Requirement already satisfied: langchain-community in ./opt/anaconda3/lib/python3.9/site-packages (0.0.13)\n",
      "Requirement already satisfied: PyYAML>=5.3 in ./opt/anaconda3/lib/python3.9/site-packages (from langchain-community) (6.0)\n",
      "Requirement already satisfied: SQLAlchemy<3,>=1.4 in ./opt/anaconda3/lib/python3.9/site-packages (from langchain-community) (1.4.39)\n",
      "Requirement already satisfied: aiohttp<4.0.0,>=3.8.3 in ./opt/anaconda3/lib/python3.9/site-packages (from langchain-community) (3.9.1)\n",
      "Requirement already satisfied: dataclasses-json<0.7,>=0.5.7 in ./opt/anaconda3/lib/python3.9/site-packages (from langchain-community) (0.6.3)\n",
      "Requirement already satisfied: langchain-core<0.2,>=0.1.9 in ./opt/anaconda3/lib/python3.9/site-packages (from langchain-community) (0.1.11)\n",
      "Requirement already satisfied: langsmith<0.1.0,>=0.0.63 in ./opt/anaconda3/lib/python3.9/site-packages (from langchain-community) (0.0.81)\n",
      "Requirement already satisfied: numpy<2,>=1 in ./opt/anaconda3/lib/python3.9/site-packages (from langchain-community) (1.21.5)\n",
      "Requirement already satisfied: requests<3,>=2 in ./opt/anaconda3/lib/python3.9/site-packages (from langchain-community) (2.28.1)\n",
      "Requirement already satisfied: tenacity<9.0.0,>=8.1.0 in ./opt/anaconda3/lib/python3.9/site-packages (from langchain-community) (8.2.3)\n",
      "Requirement already satisfied: attrs>=17.3.0 in ./opt/anaconda3/lib/python3.9/site-packages (from aiohttp<4.0.0,>=3.8.3->langchain-community) (21.4.0)\n",
      "Requirement already satisfied: multidict<7.0,>=4.5 in ./opt/anaconda3/lib/python3.9/site-packages (from aiohttp<4.0.0,>=3.8.3->langchain-community) (6.0.4)\n",
      "Requirement already satisfied: yarl<2.0,>=1.0 in ./opt/anaconda3/lib/python3.9/site-packages (from aiohttp<4.0.0,>=3.8.3->langchain-community) (1.9.4)\n",
      "Requirement already satisfied: frozenlist>=1.1.1 in ./opt/anaconda3/lib/python3.9/site-packages (from aiohttp<4.0.0,>=3.8.3->langchain-community) (1.4.1)\n",
      "Requirement already satisfied: aiosignal>=1.1.2 in ./opt/anaconda3/lib/python3.9/site-packages (from aiohttp<4.0.0,>=3.8.3->langchain-community) (1.3.1)\n",
      "Requirement already satisfied: async-timeout<5.0,>=4.0 in ./opt/anaconda3/lib/python3.9/site-packages (from aiohttp<4.0.0,>=3.8.3->langchain-community) (4.0.3)\n",
      "Requirement already satisfied: marshmallow<4.0.0,>=3.18.0 in ./opt/anaconda3/lib/python3.9/site-packages (from dataclasses-json<0.7,>=0.5.7->langchain-community) (3.20.2)\n",
      "Requirement already satisfied: typing-inspect<1,>=0.4.0 in ./opt/anaconda3/lib/python3.9/site-packages (from dataclasses-json<0.7,>=0.5.7->langchain-community) (0.9.0)\n",
      "Requirement already satisfied: anyio<5,>=3 in ./opt/anaconda3/lib/python3.9/site-packages (from langchain-core<0.2,>=0.1.9->langchain-community) (3.5.0)\n",
      "Requirement already satisfied: jsonpatch<2.0,>=1.33 in ./opt/anaconda3/lib/python3.9/site-packages (from langchain-core<0.2,>=0.1.9->langchain-community) (1.33)\n",
      "Requirement already satisfied: packaging<24.0,>=23.2 in ./opt/anaconda3/lib/python3.9/site-packages (from langchain-core<0.2,>=0.1.9->langchain-community) (23.2)\n",
      "Requirement already satisfied: pydantic<3,>=1 in ./opt/anaconda3/lib/python3.9/site-packages (from langchain-core<0.2,>=0.1.9->langchain-community) (1.10.6)\n",
      "Requirement already satisfied: charset-normalizer<3,>=2 in ./opt/anaconda3/lib/python3.9/site-packages (from requests<3,>=2->langchain-community) (2.0.4)\n",
      "Requirement already satisfied: idna<4,>=2.5 in ./opt/anaconda3/lib/python3.9/site-packages (from requests<3,>=2->langchain-community) (3.3)\n",
      "Requirement already satisfied: urllib3<1.27,>=1.21.1 in ./opt/anaconda3/lib/python3.9/site-packages (from requests<3,>=2->langchain-community) (1.26.11)\n",
      "Requirement already satisfied: certifi>=2017.4.17 in ./opt/anaconda3/lib/python3.9/site-packages (from requests<3,>=2->langchain-community) (2022.9.24)\n",
      "Requirement already satisfied: greenlet!=0.4.17 in ./opt/anaconda3/lib/python3.9/site-packages (from SQLAlchemy<3,>=1.4->langchain-community) (1.1.1)\n",
      "Requirement already satisfied: sniffio>=1.1 in ./opt/anaconda3/lib/python3.9/site-packages (from anyio<5,>=3->langchain-core<0.2,>=0.1.9->langchain-community) (1.2.0)\n",
      "Requirement already satisfied: jsonpointer>=1.9 in ./opt/anaconda3/lib/python3.9/site-packages (from jsonpatch<2.0,>=1.33->langchain-core<0.2,>=0.1.9->langchain-community) (2.4)\n",
      "Requirement already satisfied: typing-extensions>=4.2.0 in ./opt/anaconda3/lib/python3.9/site-packages (from pydantic<3,>=1->langchain-core<0.2,>=0.1.9->langchain-community) (4.3.0)\n",
      "Requirement already satisfied: mypy-extensions>=0.3.0 in ./opt/anaconda3/lib/python3.9/site-packages (from typing-inspect<1,>=0.4.0->dataclasses-json<0.7,>=0.5.7->langchain-community) (0.4.3)\n",
      "Note: you may need to restart the kernel to use updated packages.\n"
     ]
    }
   ],
   "source": [
    "pip install langchain-community"
   ]
  },
  {
   "cell_type": "code",
   "execution_count": 4,
   "id": "bfa971ae",
   "metadata": {},
   "outputs": [
    {
     "name": "stdout",
     "output_type": "stream",
     "text": [
      "Requirement already satisfied: langchain-core in ./opt/anaconda3/lib/python3.9/site-packages (0.1.11)\n",
      "Requirement already satisfied: PyYAML>=5.3 in ./opt/anaconda3/lib/python3.9/site-packages (from langchain-core) (6.0)\n",
      "Requirement already satisfied: anyio<5,>=3 in ./opt/anaconda3/lib/python3.9/site-packages (from langchain-core) (3.5.0)\n",
      "Requirement already satisfied: jsonpatch<2.0,>=1.33 in ./opt/anaconda3/lib/python3.9/site-packages (from langchain-core) (1.33)\n",
      "Requirement already satisfied: langsmith<0.1.0,>=0.0.63 in ./opt/anaconda3/lib/python3.9/site-packages (from langchain-core) (0.0.81)\n",
      "Requirement already satisfied: packaging<24.0,>=23.2 in ./opt/anaconda3/lib/python3.9/site-packages (from langchain-core) (23.2)\n",
      "Requirement already satisfied: pydantic<3,>=1 in ./opt/anaconda3/lib/python3.9/site-packages (from langchain-core) (1.10.6)\n",
      "Requirement already satisfied: requests<3,>=2 in ./opt/anaconda3/lib/python3.9/site-packages (from langchain-core) (2.28.1)\n",
      "Requirement already satisfied: tenacity<9.0.0,>=8.1.0 in ./opt/anaconda3/lib/python3.9/site-packages (from langchain-core) (8.2.3)\n",
      "Requirement already satisfied: idna>=2.8 in ./opt/anaconda3/lib/python3.9/site-packages (from anyio<5,>=3->langchain-core) (3.3)\n",
      "Requirement already satisfied: sniffio>=1.1 in ./opt/anaconda3/lib/python3.9/site-packages (from anyio<5,>=3->langchain-core) (1.2.0)\n",
      "Requirement already satisfied: jsonpointer>=1.9 in ./opt/anaconda3/lib/python3.9/site-packages (from jsonpatch<2.0,>=1.33->langchain-core) (2.4)\n",
      "Requirement already satisfied: typing-extensions>=4.2.0 in ./opt/anaconda3/lib/python3.9/site-packages (from pydantic<3,>=1->langchain-core) (4.3.0)\n",
      "Requirement already satisfied: charset-normalizer<3,>=2 in ./opt/anaconda3/lib/python3.9/site-packages (from requests<3,>=2->langchain-core) (2.0.4)\n",
      "Requirement already satisfied: urllib3<1.27,>=1.21.1 in ./opt/anaconda3/lib/python3.9/site-packages (from requests<3,>=2->langchain-core) (1.26.11)\n",
      "Requirement already satisfied: certifi>=2017.4.17 in ./opt/anaconda3/lib/python3.9/site-packages (from requests<3,>=2->langchain-core) (2022.9.24)\n",
      "Note: you may need to restart the kernel to use updated packages.\n"
     ]
    }
   ],
   "source": [
    "pip install langchain-core"
   ]
  },
  {
   "cell_type": "code",
   "execution_count": 5,
   "id": "98c1a746",
   "metadata": {},
   "outputs": [
    {
     "name": "stdout",
     "output_type": "stream",
     "text": [
      "Requirement already satisfied: langchain-core in ./opt/anaconda3/lib/python3.9/site-packages (0.1.11)\n",
      "Requirement already satisfied: PyYAML>=5.3 in ./opt/anaconda3/lib/python3.9/site-packages (from langchain-core) (6.0)\n",
      "Requirement already satisfied: anyio<5,>=3 in ./opt/anaconda3/lib/python3.9/site-packages (from langchain-core) (3.5.0)\n",
      "Requirement already satisfied: jsonpatch<2.0,>=1.33 in ./opt/anaconda3/lib/python3.9/site-packages (from langchain-core) (1.33)\n",
      "Requirement already satisfied: langsmith<0.1.0,>=0.0.63 in ./opt/anaconda3/lib/python3.9/site-packages (from langchain-core) (0.0.81)\n",
      "Requirement already satisfied: packaging<24.0,>=23.2 in ./opt/anaconda3/lib/python3.9/site-packages (from langchain-core) (23.2)\n",
      "Requirement already satisfied: pydantic<3,>=1 in ./opt/anaconda3/lib/python3.9/site-packages (from langchain-core) (1.10.6)\n",
      "Requirement already satisfied: requests<3,>=2 in ./opt/anaconda3/lib/python3.9/site-packages (from langchain-core) (2.28.1)\n",
      "Requirement already satisfied: tenacity<9.0.0,>=8.1.0 in ./opt/anaconda3/lib/python3.9/site-packages (from langchain-core) (8.2.3)\n",
      "Requirement already satisfied: idna>=2.8 in ./opt/anaconda3/lib/python3.9/site-packages (from anyio<5,>=3->langchain-core) (3.3)\n",
      "Requirement already satisfied: sniffio>=1.1 in ./opt/anaconda3/lib/python3.9/site-packages (from anyio<5,>=3->langchain-core) (1.2.0)\n",
      "Requirement already satisfied: jsonpointer>=1.9 in ./opt/anaconda3/lib/python3.9/site-packages (from jsonpatch<2.0,>=1.33->langchain-core) (2.4)\n",
      "Requirement already satisfied: typing-extensions>=4.2.0 in ./opt/anaconda3/lib/python3.9/site-packages (from pydantic<3,>=1->langchain-core) (4.3.0)\n",
      "Requirement already satisfied: charset-normalizer<3,>=2 in ./opt/anaconda3/lib/python3.9/site-packages (from requests<3,>=2->langchain-core) (2.0.4)\n",
      "Requirement already satisfied: urllib3<1.27,>=1.21.1 in ./opt/anaconda3/lib/python3.9/site-packages (from requests<3,>=2->langchain-core) (1.26.11)\n",
      "Requirement already satisfied: certifi>=2017.4.17 in ./opt/anaconda3/lib/python3.9/site-packages (from requests<3,>=2->langchain-core) (2022.9.24)\n",
      "Note: you may need to restart the kernel to use updated packages.\n"
     ]
    }
   ],
   "source": [
    "pip install langchain-core"
   ]
  },
  {
   "cell_type": "code",
   "execution_count": 6,
   "id": "52ef39fc",
   "metadata": {},
   "outputs": [
    {
     "name": "stdout",
     "output_type": "stream",
     "text": [
      "Collecting langchain-experimental\n",
      "  Downloading langchain_experimental-0.0.49-py3-none-any.whl.metadata (1.9 kB)\n",
      "Requirement already satisfied: langchain<0.2,>=0.1 in ./opt/anaconda3/lib/python3.9/site-packages (from langchain-experimental) (0.1.1)\n",
      "Requirement already satisfied: langchain-core<0.2.0,>=0.1.7 in ./opt/anaconda3/lib/python3.9/site-packages (from langchain-experimental) (0.1.11)\n",
      "Requirement already satisfied: PyYAML>=5.3 in ./opt/anaconda3/lib/python3.9/site-packages (from langchain<0.2,>=0.1->langchain-experimental) (6.0)\n",
      "Requirement already satisfied: SQLAlchemy<3,>=1.4 in ./opt/anaconda3/lib/python3.9/site-packages (from langchain<0.2,>=0.1->langchain-experimental) (1.4.39)\n",
      "Requirement already satisfied: aiohttp<4.0.0,>=3.8.3 in ./opt/anaconda3/lib/python3.9/site-packages (from langchain<0.2,>=0.1->langchain-experimental) (3.9.1)\n",
      "Requirement already satisfied: async-timeout<5.0.0,>=4.0.0 in ./opt/anaconda3/lib/python3.9/site-packages (from langchain<0.2,>=0.1->langchain-experimental) (4.0.3)\n",
      "Requirement already satisfied: dataclasses-json<0.7,>=0.5.7 in ./opt/anaconda3/lib/python3.9/site-packages (from langchain<0.2,>=0.1->langchain-experimental) (0.6.3)\n",
      "Requirement already satisfied: jsonpatch<2.0,>=1.33 in ./opt/anaconda3/lib/python3.9/site-packages (from langchain<0.2,>=0.1->langchain-experimental) (1.33)\n",
      "Requirement already satisfied: langchain-community<0.1,>=0.0.13 in ./opt/anaconda3/lib/python3.9/site-packages (from langchain<0.2,>=0.1->langchain-experimental) (0.0.13)\n",
      "Requirement already satisfied: langsmith<0.1.0,>=0.0.77 in ./opt/anaconda3/lib/python3.9/site-packages (from langchain<0.2,>=0.1->langchain-experimental) (0.0.81)\n",
      "Requirement already satisfied: numpy<2,>=1 in ./opt/anaconda3/lib/python3.9/site-packages (from langchain<0.2,>=0.1->langchain-experimental) (1.21.5)\n",
      "Requirement already satisfied: pydantic<3,>=1 in ./opt/anaconda3/lib/python3.9/site-packages (from langchain<0.2,>=0.1->langchain-experimental) (1.10.6)\n",
      "Requirement already satisfied: requests<3,>=2 in ./opt/anaconda3/lib/python3.9/site-packages (from langchain<0.2,>=0.1->langchain-experimental) (2.28.1)\n",
      "Requirement already satisfied: tenacity<9.0.0,>=8.1.0 in ./opt/anaconda3/lib/python3.9/site-packages (from langchain<0.2,>=0.1->langchain-experimental) (8.2.3)\n",
      "Requirement already satisfied: anyio<5,>=3 in ./opt/anaconda3/lib/python3.9/site-packages (from langchain-core<0.2.0,>=0.1.7->langchain-experimental) (3.5.0)\n",
      "Requirement already satisfied: packaging<24.0,>=23.2 in ./opt/anaconda3/lib/python3.9/site-packages (from langchain-core<0.2.0,>=0.1.7->langchain-experimental) (23.2)\n",
      "Requirement already satisfied: attrs>=17.3.0 in ./opt/anaconda3/lib/python3.9/site-packages (from aiohttp<4.0.0,>=3.8.3->langchain<0.2,>=0.1->langchain-experimental) (21.4.0)\n",
      "Requirement already satisfied: multidict<7.0,>=4.5 in ./opt/anaconda3/lib/python3.9/site-packages (from aiohttp<4.0.0,>=3.8.3->langchain<0.2,>=0.1->langchain-experimental) (6.0.4)\n",
      "Requirement already satisfied: yarl<2.0,>=1.0 in ./opt/anaconda3/lib/python3.9/site-packages (from aiohttp<4.0.0,>=3.8.3->langchain<0.2,>=0.1->langchain-experimental) (1.9.4)\n",
      "Requirement already satisfied: frozenlist>=1.1.1 in ./opt/anaconda3/lib/python3.9/site-packages (from aiohttp<4.0.0,>=3.8.3->langchain<0.2,>=0.1->langchain-experimental) (1.4.1)\n",
      "Requirement already satisfied: aiosignal>=1.1.2 in ./opt/anaconda3/lib/python3.9/site-packages (from aiohttp<4.0.0,>=3.8.3->langchain<0.2,>=0.1->langchain-experimental) (1.3.1)\n",
      "Requirement already satisfied: idna>=2.8 in ./opt/anaconda3/lib/python3.9/site-packages (from anyio<5,>=3->langchain-core<0.2.0,>=0.1.7->langchain-experimental) (3.3)\n",
      "Requirement already satisfied: sniffio>=1.1 in ./opt/anaconda3/lib/python3.9/site-packages (from anyio<5,>=3->langchain-core<0.2.0,>=0.1.7->langchain-experimental) (1.2.0)\n",
      "Requirement already satisfied: marshmallow<4.0.0,>=3.18.0 in ./opt/anaconda3/lib/python3.9/site-packages (from dataclasses-json<0.7,>=0.5.7->langchain<0.2,>=0.1->langchain-experimental) (3.20.2)\n",
      "Requirement already satisfied: typing-inspect<1,>=0.4.0 in ./opt/anaconda3/lib/python3.9/site-packages (from dataclasses-json<0.7,>=0.5.7->langchain<0.2,>=0.1->langchain-experimental) (0.9.0)\n",
      "Requirement already satisfied: jsonpointer>=1.9 in ./opt/anaconda3/lib/python3.9/site-packages (from jsonpatch<2.0,>=1.33->langchain<0.2,>=0.1->langchain-experimental) (2.4)\n",
      "Requirement already satisfied: typing-extensions>=4.2.0 in ./opt/anaconda3/lib/python3.9/site-packages (from pydantic<3,>=1->langchain<0.2,>=0.1->langchain-experimental) (4.3.0)\n",
      "Requirement already satisfied: charset-normalizer<3,>=2 in ./opt/anaconda3/lib/python3.9/site-packages (from requests<3,>=2->langchain<0.2,>=0.1->langchain-experimental) (2.0.4)\n",
      "Requirement already satisfied: urllib3<1.27,>=1.21.1 in ./opt/anaconda3/lib/python3.9/site-packages (from requests<3,>=2->langchain<0.2,>=0.1->langchain-experimental) (1.26.11)\n",
      "Requirement already satisfied: certifi>=2017.4.17 in ./opt/anaconda3/lib/python3.9/site-packages (from requests<3,>=2->langchain<0.2,>=0.1->langchain-experimental) (2022.9.24)\n",
      "Requirement already satisfied: greenlet!=0.4.17 in ./opt/anaconda3/lib/python3.9/site-packages (from SQLAlchemy<3,>=1.4->langchain<0.2,>=0.1->langchain-experimental) (1.1.1)\n",
      "Requirement already satisfied: mypy-extensions>=0.3.0 in ./opt/anaconda3/lib/python3.9/site-packages (from typing-inspect<1,>=0.4.0->dataclasses-json<0.7,>=0.5.7->langchain<0.2,>=0.1->langchain-experimental) (0.4.3)\n",
      "Downloading langchain_experimental-0.0.49-py3-none-any.whl (165 kB)\n",
      "\u001b[2K   \u001b[90m━━━━━━━━━━━━━━━━━━━━━━━━━━━━━━━━━━━━━━━━\u001b[0m \u001b[32m165.7/165.7 kB\u001b[0m \u001b[31m1.4 MB/s\u001b[0m eta \u001b[36m0:00:00\u001b[0ma \u001b[36m0:00:01\u001b[0m\n",
      "\u001b[?25hInstalling collected packages: langchain-experimental\n",
      "Successfully installed langchain-experimental-0.0.49\n",
      "Note: you may need to restart the kernel to use updated packages.\n"
     ]
    }
   ],
   "source": [
    "pip install langchain-experimental"
   ]
  },
  {
   "cell_type": "code",
   "execution_count": 7,
   "id": "a6a14cfd",
   "metadata": {},
   "outputs": [
    {
     "name": "stdout",
     "output_type": "stream",
     "text": [
      "Collecting langserve[all]\n",
      "  Downloading langserve-0.0.39-py3-none-any.whl.metadata (36 kB)\n",
      "Collecting httpx>=0.23.0 (from langserve[all])\n",
      "  Downloading httpx-0.26.0-py3-none-any.whl.metadata (7.6 kB)\n",
      "Requirement already satisfied: langchain>=0.0.333 in ./opt/anaconda3/lib/python3.9/site-packages (from langserve[all]) (0.1.1)\n",
      "Collecting orjson>=2 (from langserve[all])\n",
      "  Downloading orjson-3.9.10-cp39-cp39-macosx_10_15_x86_64.macosx_11_0_arm64.macosx_10_15_universal2.whl.metadata (49 kB)\n",
      "\u001b[2K     \u001b[90m━━━━━━━━━━━━━━━━━━━━━━━━━━━━━━━━━━━━━━━━\u001b[0m \u001b[32m49.3/49.3 kB\u001b[0m \u001b[31m1.2 MB/s\u001b[0m eta \u001b[36m0:00:00\u001b[0m\n",
      "\u001b[?25hRequirement already satisfied: pydantic>=1 in ./opt/anaconda3/lib/python3.9/site-packages (from langserve[all]) (1.10.6)\n",
      "Collecting fastapi<1,>=0.90.1 (from langserve[all])\n",
      "  Downloading fastapi-0.109.0-py3-none-any.whl.metadata (24 kB)\n",
      "Collecting httpx-sse>=0.3.1 (from langserve[all])\n",
      "  Downloading httpx_sse-0.4.0-py3-none-any.whl.metadata (9.0 kB)\n",
      "Collecting sse-starlette<2.0.0,>=1.3.0 (from langserve[all])\n",
      "  Downloading sse_starlette-1.8.2-py3-none-any.whl.metadata (5.4 kB)\n",
      "Collecting starlette<0.36.0,>=0.35.0 (from fastapi<1,>=0.90.1->langserve[all])\n",
      "  Downloading starlette-0.35.1-py3-none-any.whl.metadata (5.8 kB)\n",
      "Collecting typing-extensions>=4.8.0 (from fastapi<1,>=0.90.1->langserve[all])\n",
      "  Downloading typing_extensions-4.9.0-py3-none-any.whl.metadata (3.0 kB)\n",
      "Requirement already satisfied: anyio in ./opt/anaconda3/lib/python3.9/site-packages (from httpx>=0.23.0->langserve[all]) (3.5.0)\n",
      "Requirement already satisfied: certifi in ./opt/anaconda3/lib/python3.9/site-packages (from httpx>=0.23.0->langserve[all]) (2022.9.24)\n",
      "Collecting httpcore==1.* (from httpx>=0.23.0->langserve[all])\n",
      "  Downloading httpcore-1.0.2-py3-none-any.whl.metadata (20 kB)\n",
      "Requirement already satisfied: idna in ./opt/anaconda3/lib/python3.9/site-packages (from httpx>=0.23.0->langserve[all]) (3.3)\n",
      "Requirement already satisfied: sniffio in ./opt/anaconda3/lib/python3.9/site-packages (from httpx>=0.23.0->langserve[all]) (1.2.0)\n",
      "Collecting h11<0.15,>=0.13 (from httpcore==1.*->httpx>=0.23.0->langserve[all])\n",
      "  Downloading h11-0.14.0-py3-none-any.whl (58 kB)\n",
      "\u001b[2K     \u001b[90m━━━━━━━━━━━━━━━━━━━━━━━━━━━━━━━━━━━━━━━━\u001b[0m \u001b[32m58.3/58.3 kB\u001b[0m \u001b[31m2.1 MB/s\u001b[0m eta \u001b[36m0:00:00\u001b[0m\n",
      "\u001b[?25hRequirement already satisfied: PyYAML>=5.3 in ./opt/anaconda3/lib/python3.9/site-packages (from langchain>=0.0.333->langserve[all]) (6.0)\n",
      "Requirement already satisfied: SQLAlchemy<3,>=1.4 in ./opt/anaconda3/lib/python3.9/site-packages (from langchain>=0.0.333->langserve[all]) (1.4.39)\n",
      "Requirement already satisfied: aiohttp<4.0.0,>=3.8.3 in ./opt/anaconda3/lib/python3.9/site-packages (from langchain>=0.0.333->langserve[all]) (3.9.1)\n",
      "Requirement already satisfied: async-timeout<5.0.0,>=4.0.0 in ./opt/anaconda3/lib/python3.9/site-packages (from langchain>=0.0.333->langserve[all]) (4.0.3)\n",
      "Requirement already satisfied: dataclasses-json<0.7,>=0.5.7 in ./opt/anaconda3/lib/python3.9/site-packages (from langchain>=0.0.333->langserve[all]) (0.6.3)\n",
      "Requirement already satisfied: jsonpatch<2.0,>=1.33 in ./opt/anaconda3/lib/python3.9/site-packages (from langchain>=0.0.333->langserve[all]) (1.33)\n",
      "Requirement already satisfied: langchain-community<0.1,>=0.0.13 in ./opt/anaconda3/lib/python3.9/site-packages (from langchain>=0.0.333->langserve[all]) (0.0.13)\n",
      "Requirement already satisfied: langchain-core<0.2,>=0.1.9 in ./opt/anaconda3/lib/python3.9/site-packages (from langchain>=0.0.333->langserve[all]) (0.1.11)\n",
      "Requirement already satisfied: langsmith<0.1.0,>=0.0.77 in ./opt/anaconda3/lib/python3.9/site-packages (from langchain>=0.0.333->langserve[all]) (0.0.81)\n",
      "Requirement already satisfied: numpy<2,>=1 in ./opt/anaconda3/lib/python3.9/site-packages (from langchain>=0.0.333->langserve[all]) (1.21.5)\n",
      "Requirement already satisfied: requests<3,>=2 in ./opt/anaconda3/lib/python3.9/site-packages (from langchain>=0.0.333->langserve[all]) (2.28.1)\n",
      "Requirement already satisfied: tenacity<9.0.0,>=8.1.0 in ./opt/anaconda3/lib/python3.9/site-packages (from langchain>=0.0.333->langserve[all]) (8.2.3)\n",
      "Collecting uvicorn (from sse-starlette<2.0.0,>=1.3.0->langserve[all])\n",
      "  Downloading uvicorn-0.26.0-py3-none-any.whl.metadata (6.4 kB)\n",
      "Requirement already satisfied: attrs>=17.3.0 in ./opt/anaconda3/lib/python3.9/site-packages (from aiohttp<4.0.0,>=3.8.3->langchain>=0.0.333->langserve[all]) (21.4.0)\n",
      "Requirement already satisfied: multidict<7.0,>=4.5 in ./opt/anaconda3/lib/python3.9/site-packages (from aiohttp<4.0.0,>=3.8.3->langchain>=0.0.333->langserve[all]) (6.0.4)\n",
      "Requirement already satisfied: yarl<2.0,>=1.0 in ./opt/anaconda3/lib/python3.9/site-packages (from aiohttp<4.0.0,>=3.8.3->langchain>=0.0.333->langserve[all]) (1.9.4)\n",
      "Requirement already satisfied: frozenlist>=1.1.1 in ./opt/anaconda3/lib/python3.9/site-packages (from aiohttp<4.0.0,>=3.8.3->langchain>=0.0.333->langserve[all]) (1.4.1)\n",
      "Requirement already satisfied: aiosignal>=1.1.2 in ./opt/anaconda3/lib/python3.9/site-packages (from aiohttp<4.0.0,>=3.8.3->langchain>=0.0.333->langserve[all]) (1.3.1)\n",
      "Requirement already satisfied: marshmallow<4.0.0,>=3.18.0 in ./opt/anaconda3/lib/python3.9/site-packages (from dataclasses-json<0.7,>=0.5.7->langchain>=0.0.333->langserve[all]) (3.20.2)\n",
      "Requirement already satisfied: typing-inspect<1,>=0.4.0 in ./opt/anaconda3/lib/python3.9/site-packages (from dataclasses-json<0.7,>=0.5.7->langchain>=0.0.333->langserve[all]) (0.9.0)\n",
      "Requirement already satisfied: jsonpointer>=1.9 in ./opt/anaconda3/lib/python3.9/site-packages (from jsonpatch<2.0,>=1.33->langchain>=0.0.333->langserve[all]) (2.4)\n",
      "Requirement already satisfied: packaging<24.0,>=23.2 in ./opt/anaconda3/lib/python3.9/site-packages (from langchain-core<0.2,>=0.1.9->langchain>=0.0.333->langserve[all]) (23.2)\n",
      "Requirement already satisfied: charset-normalizer<3,>=2 in ./opt/anaconda3/lib/python3.9/site-packages (from requests<3,>=2->langchain>=0.0.333->langserve[all]) (2.0.4)\n",
      "Requirement already satisfied: urllib3<1.27,>=1.21.1 in ./opt/anaconda3/lib/python3.9/site-packages (from requests<3,>=2->langchain>=0.0.333->langserve[all]) (1.26.11)\n",
      "Requirement already satisfied: greenlet!=0.4.17 in ./opt/anaconda3/lib/python3.9/site-packages (from SQLAlchemy<3,>=1.4->langchain>=0.0.333->langserve[all]) (1.1.1)\n",
      "Requirement already satisfied: click>=7.0 in ./opt/anaconda3/lib/python3.9/site-packages (from uvicorn->sse-starlette<2.0.0,>=1.3.0->langserve[all]) (8.0.4)\n",
      "Requirement already satisfied: mypy-extensions>=0.3.0 in ./opt/anaconda3/lib/python3.9/site-packages (from typing-inspect<1,>=0.4.0->dataclasses-json<0.7,>=0.5.7->langchain>=0.0.333->langserve[all]) (0.4.3)\n",
      "Downloading fastapi-0.109.0-py3-none-any.whl (92 kB)\n",
      "\u001b[2K   \u001b[90m━━━━━━━━━━━━━━━━━━━━━━━━━━━━━━━━━━━━━━━━\u001b[0m \u001b[32m92.0/92.0 kB\u001b[0m \u001b[31m2.8 MB/s\u001b[0m eta \u001b[36m0:00:00\u001b[0m\n",
      "\u001b[?25hDownloading httpx-0.26.0-py3-none-any.whl (75 kB)\n",
      "\u001b[2K   \u001b[90m━━━━━━━━━━━━━━━━━━━━━━━━━━━━━━━━━━━━━━━━\u001b[0m \u001b[32m75.9/75.9 kB\u001b[0m \u001b[31m3.4 MB/s\u001b[0m eta \u001b[36m0:00:00\u001b[0m\n",
      "\u001b[?25hDownloading httpcore-1.0.2-py3-none-any.whl (76 kB)\n",
      "\u001b[2K   \u001b[90m━━━━━━━━━━━━━━━━━━━━━━━━━━━━━━━━━━━━━━━━\u001b[0m \u001b[32m76.9/76.9 kB\u001b[0m \u001b[31m3.2 MB/s\u001b[0m eta \u001b[36m0:00:00\u001b[0m\n",
      "\u001b[?25hDownloading httpx_sse-0.4.0-py3-none-any.whl (7.8 kB)\n",
      "Downloading orjson-3.9.10-cp39-cp39-macosx_10_15_x86_64.macosx_11_0_arm64.macosx_10_15_universal2.whl (241 kB)\n",
      "\u001b[2K   \u001b[90m━━━━━━━━━━━━━━━━━━━━━━━━━━━━━━━━━━━━━━━━\u001b[0m \u001b[32m241.7/241.7 kB\u001b[0m \u001b[31m3.2 MB/s\u001b[0m eta \u001b[36m0:00:00\u001b[0ma \u001b[36m0:00:01\u001b[0m\n",
      "\u001b[?25hDownloading sse_starlette-1.8.2-py3-none-any.whl (8.9 kB)\n",
      "Downloading langserve-0.0.39-py3-none-any.whl (510 kB)\n",
      "\u001b[2K   \u001b[90m━━━━━━━━━━━━━━━━━━━━━━━━━━━━━━━━━━━━━━━━\u001b[0m \u001b[32m510.1/510.1 kB\u001b[0m \u001b[31m6.6 MB/s\u001b[0m eta \u001b[36m0:00:00\u001b[0m:00:01\u001b[0m00:01\u001b[0m\n",
      "\u001b[?25hDownloading starlette-0.35.1-py3-none-any.whl (71 kB)\n",
      "\u001b[2K   \u001b[90m━━━━━━━━━━━━━━━━━━━━━━━━━━━━━━━━━━━━━━━━\u001b[0m \u001b[32m71.1/71.1 kB\u001b[0m \u001b[31m3.3 MB/s\u001b[0m eta \u001b[36m0:00:00\u001b[0m\n",
      "\u001b[?25hDownloading typing_extensions-4.9.0-py3-none-any.whl (32 kB)\n",
      "Downloading uvicorn-0.26.0-py3-none-any.whl (60 kB)\n",
      "\u001b[2K   \u001b[90m━━━━━━━━━━━━━━━━━━━━━━━━━━━━━━━━━━━━━━━━\u001b[0m \u001b[32m60.5/60.5 kB\u001b[0m \u001b[31m2.6 MB/s\u001b[0m eta \u001b[36m0:00:00\u001b[0m\n",
      "\u001b[?25hInstalling collected packages: typing-extensions, orjson, httpx-sse, h11, uvicorn, starlette, httpcore, httpx, fastapi, sse-starlette, langserve\n",
      "  Attempting uninstall: typing-extensions\n",
      "    Found existing installation: typing_extensions 4.3.0\n",
      "    Uninstalling typing_extensions-4.3.0:\n",
      "      Successfully uninstalled typing_extensions-4.3.0\n",
      "\u001b[31mERROR: pip's dependency resolver does not currently take into account all the packages that are installed. This behaviour is the source of the following dependency conflicts.\n",
      "spyder 5.3.3 requires pyqt5<5.16, which is not installed.\n",
      "spyder 5.3.3 requires pyqtwebengine<5.16, which is not installed.\u001b[0m\u001b[31m\n",
      "\u001b[0mSuccessfully installed fastapi-0.109.0 h11-0.14.0 httpcore-1.0.2 httpx-0.26.0 httpx-sse-0.4.0 langserve-0.0.39 orjson-3.9.10 sse-starlette-1.8.2 starlette-0.35.1 typing-extensions-4.9.0 uvicorn-0.26.0\n",
      "Note: you may need to restart the kernel to use updated packages.\n"
     ]
    }
   ],
   "source": [
    "pip install \"langserve[all]\""
   ]
  },
  {
   "cell_type": "code",
   "execution_count": 15,
   "id": "c5f7c852",
   "metadata": {},
   "outputs": [
    {
     "name": "stdout",
     "output_type": "stream",
     "text": [
      "Collecting pyqt5==5.15.0\n",
      "  Downloading PyQt5-5.15.0-5.15.0-cp35.cp36.cp37.cp38-abi3-macosx_10_6_intel.whl (55.3 MB)\n",
      "\u001b[2K     \u001b[90m━━━━━━━━━━━━━━━━━━━━━━━━━━━━━━━━━━━━━━━━\u001b[0m \u001b[32m55.3/55.3 MB\u001b[0m \u001b[31m5.7 MB/s\u001b[0m eta \u001b[36m0:00:00\u001b[0m00:01\u001b[0m00:01\u001b[0mm\n",
      "\u001b[?25hRequirement already satisfied: PyQt5-sip<13,>=12.8 in ./opt/anaconda3/lib/python3.9/site-packages (from pyqt5==5.15.0) (12.11.0)\n",
      "Installing collected packages: pyqt5\n",
      "\u001b[33m  WARNING: The scripts pylupdate5, pyrcc5 and pyuic5 are installed in '/Users/Mrudani/.local/bin' which is not on PATH.\n",
      "  Consider adding this directory to PATH or, if you prefer to suppress this warning, use --no-warn-script-location.\u001b[0m\u001b[33m\n",
      "\u001b[0m\u001b[31mERROR: pip's dependency resolver does not currently take into account all the packages that are installed. This behaviour is the source of the following dependency conflicts.\n",
      "spyder 5.3.3 requires pyqtwebengine<5.16, which is not installed.\u001b[0m\u001b[31m\n",
      "\u001b[0mSuccessfully installed pyqt5-5.15.0\n",
      "Note: you may need to restart the kernel to use updated packages.\n"
     ]
    }
   ],
   "source": [
    "pip install --upgrade --user pyqt5==5.15.0"
   ]
  },
  {
   "cell_type": "code",
   "execution_count": 16,
   "id": "58337f31",
   "metadata": {},
   "outputs": [
    {
     "name": "stdout",
     "output_type": "stream",
     "text": [
      "Collecting pyqtwebengine==5.15.0\n",
      "  Downloading PyQtWebEngine-5.15.0-5.15.0-cp35.cp36.cp37.cp38-abi3-macosx_10_13_intel.whl (76.3 MB)\n",
      "\u001b[2K     \u001b[90m━━━━━━━━━━━━━━━━━━━━━━━━━━━━━━━━━━━━━━━━\u001b[0m \u001b[32m76.3/76.3 MB\u001b[0m \u001b[31m1.6 MB/s\u001b[0m eta \u001b[36m0:00:00\u001b[0m00:01\u001b[0m00:01\u001b[0mm\n",
      "\u001b[?25hRequirement already satisfied: PyQt5-sip<13,>=12.8 in ./opt/anaconda3/lib/python3.9/site-packages (from pyqtwebengine==5.15.0) (12.11.0)\n",
      "Requirement already satisfied: PyQt5>=5.15 in ./.local/lib/python3.9/site-packages (from pyqtwebengine==5.15.0) (5.15.0)\n",
      "Installing collected packages: pyqtwebengine\n",
      "Successfully installed pyqtwebengine-5.15.0\n",
      "Note: you may need to restart the kernel to use updated packages.\n"
     ]
    }
   ],
   "source": [
    "pip install --upgrade --user pyqtwebengine==5.15.0"
   ]
  },
  {
   "cell_type": "code",
   "execution_count": 10,
   "id": "894be8e0",
   "metadata": {},
   "outputs": [
    {
     "name": "stdout",
     "output_type": "stream",
     "text": [
      "Requirement already satisfied: h5py in ./opt/anaconda3/lib/python3.9/site-packages (3.7.0)\n",
      "Requirement already satisfied: numpy>=1.14.5 in ./opt/anaconda3/lib/python3.9/site-packages (from h5py) (1.21.5)\n",
      "Requirement already satisfied: typing-extensions in ./opt/anaconda3/lib/python3.9/site-packages (4.9.0)\n",
      "Requirement already satisfied: wheel in ./opt/anaconda3/lib/python3.9/site-packages (0.37.1)\n"
     ]
    }
   ],
   "source": [
    "!pip install h5py\n",
    "!pip install typing-extensions\n",
    "!pip install wheel"
   ]
  },
  {
   "cell_type": "code",
   "execution_count": 11,
   "id": "faf7b5c7",
   "metadata": {},
   "outputs": [
    {
     "name": "stdout",
     "output_type": "stream",
     "text": [
      "Requirement already satisfied: langserve[client] in ./opt/anaconda3/lib/python3.9/site-packages (0.0.39)\n",
      "Requirement already satisfied: httpx>=0.23.0 in ./opt/anaconda3/lib/python3.9/site-packages (from langserve[client]) (0.26.0)\n",
      "Requirement already satisfied: langchain>=0.0.333 in ./opt/anaconda3/lib/python3.9/site-packages (from langserve[client]) (0.1.1)\n",
      "Requirement already satisfied: orjson>=2 in ./opt/anaconda3/lib/python3.9/site-packages (from langserve[client]) (3.9.10)\n",
      "Requirement already satisfied: pydantic>=1 in ./opt/anaconda3/lib/python3.9/site-packages (from langserve[client]) (1.10.6)\n",
      "Requirement already satisfied: httpx-sse>=0.3.1 in ./opt/anaconda3/lib/python3.9/site-packages (from langserve[client]) (0.4.0)\n",
      "Requirement already satisfied: anyio in ./opt/anaconda3/lib/python3.9/site-packages (from httpx>=0.23.0->langserve[client]) (3.5.0)\n",
      "Requirement already satisfied: certifi in ./opt/anaconda3/lib/python3.9/site-packages (from httpx>=0.23.0->langserve[client]) (2022.9.24)\n",
      "Requirement already satisfied: httpcore==1.* in ./opt/anaconda3/lib/python3.9/site-packages (from httpx>=0.23.0->langserve[client]) (1.0.2)\n",
      "Requirement already satisfied: idna in ./opt/anaconda3/lib/python3.9/site-packages (from httpx>=0.23.0->langserve[client]) (3.3)\n",
      "Requirement already satisfied: sniffio in ./opt/anaconda3/lib/python3.9/site-packages (from httpx>=0.23.0->langserve[client]) (1.2.0)\n",
      "Requirement already satisfied: h11<0.15,>=0.13 in ./opt/anaconda3/lib/python3.9/site-packages (from httpcore==1.*->httpx>=0.23.0->langserve[client]) (0.14.0)\n",
      "Requirement already satisfied: PyYAML>=5.3 in ./opt/anaconda3/lib/python3.9/site-packages (from langchain>=0.0.333->langserve[client]) (6.0)\n",
      "Requirement already satisfied: SQLAlchemy<3,>=1.4 in ./opt/anaconda3/lib/python3.9/site-packages (from langchain>=0.0.333->langserve[client]) (1.4.39)\n",
      "Requirement already satisfied: aiohttp<4.0.0,>=3.8.3 in ./opt/anaconda3/lib/python3.9/site-packages (from langchain>=0.0.333->langserve[client]) (3.9.1)\n",
      "Requirement already satisfied: async-timeout<5.0.0,>=4.0.0 in ./opt/anaconda3/lib/python3.9/site-packages (from langchain>=0.0.333->langserve[client]) (4.0.3)\n",
      "Requirement already satisfied: dataclasses-json<0.7,>=0.5.7 in ./opt/anaconda3/lib/python3.9/site-packages (from langchain>=0.0.333->langserve[client]) (0.6.3)\n",
      "Requirement already satisfied: jsonpatch<2.0,>=1.33 in ./opt/anaconda3/lib/python3.9/site-packages (from langchain>=0.0.333->langserve[client]) (1.33)\n",
      "Requirement already satisfied: langchain-community<0.1,>=0.0.13 in ./opt/anaconda3/lib/python3.9/site-packages (from langchain>=0.0.333->langserve[client]) (0.0.13)\n",
      "Requirement already satisfied: langchain-core<0.2,>=0.1.9 in ./opt/anaconda3/lib/python3.9/site-packages (from langchain>=0.0.333->langserve[client]) (0.1.11)\n",
      "Requirement already satisfied: langsmith<0.1.0,>=0.0.77 in ./opt/anaconda3/lib/python3.9/site-packages (from langchain>=0.0.333->langserve[client]) (0.0.81)\n",
      "Requirement already satisfied: numpy<2,>=1 in ./opt/anaconda3/lib/python3.9/site-packages (from langchain>=0.0.333->langserve[client]) (1.21.5)\n",
      "Requirement already satisfied: requests<3,>=2 in ./opt/anaconda3/lib/python3.9/site-packages (from langchain>=0.0.333->langserve[client]) (2.28.1)\n",
      "Requirement already satisfied: tenacity<9.0.0,>=8.1.0 in ./opt/anaconda3/lib/python3.9/site-packages (from langchain>=0.0.333->langserve[client]) (8.2.3)\n",
      "Requirement already satisfied: typing-extensions>=4.2.0 in ./opt/anaconda3/lib/python3.9/site-packages (from pydantic>=1->langserve[client]) (4.9.0)\n",
      "Requirement already satisfied: attrs>=17.3.0 in ./opt/anaconda3/lib/python3.9/site-packages (from aiohttp<4.0.0,>=3.8.3->langchain>=0.0.333->langserve[client]) (21.4.0)\n",
      "Requirement already satisfied: multidict<7.0,>=4.5 in ./opt/anaconda3/lib/python3.9/site-packages (from aiohttp<4.0.0,>=3.8.3->langchain>=0.0.333->langserve[client]) (6.0.4)\n",
      "Requirement already satisfied: yarl<2.0,>=1.0 in ./opt/anaconda3/lib/python3.9/site-packages (from aiohttp<4.0.0,>=3.8.3->langchain>=0.0.333->langserve[client]) (1.9.4)\n",
      "Requirement already satisfied: frozenlist>=1.1.1 in ./opt/anaconda3/lib/python3.9/site-packages (from aiohttp<4.0.0,>=3.8.3->langchain>=0.0.333->langserve[client]) (1.4.1)\n",
      "Requirement already satisfied: aiosignal>=1.1.2 in ./opt/anaconda3/lib/python3.9/site-packages (from aiohttp<4.0.0,>=3.8.3->langchain>=0.0.333->langserve[client]) (1.3.1)\n",
      "Requirement already satisfied: marshmallow<4.0.0,>=3.18.0 in ./opt/anaconda3/lib/python3.9/site-packages (from dataclasses-json<0.7,>=0.5.7->langchain>=0.0.333->langserve[client]) (3.20.2)\n",
      "Requirement already satisfied: typing-inspect<1,>=0.4.0 in ./opt/anaconda3/lib/python3.9/site-packages (from dataclasses-json<0.7,>=0.5.7->langchain>=0.0.333->langserve[client]) (0.9.0)\n",
      "Requirement already satisfied: jsonpointer>=1.9 in ./opt/anaconda3/lib/python3.9/site-packages (from jsonpatch<2.0,>=1.33->langchain>=0.0.333->langserve[client]) (2.4)\n",
      "Requirement already satisfied: packaging<24.0,>=23.2 in ./opt/anaconda3/lib/python3.9/site-packages (from langchain-core<0.2,>=0.1.9->langchain>=0.0.333->langserve[client]) (23.2)\n",
      "Requirement already satisfied: charset-normalizer<3,>=2 in ./opt/anaconda3/lib/python3.9/site-packages (from requests<3,>=2->langchain>=0.0.333->langserve[client]) (2.0.4)\n",
      "Requirement already satisfied: urllib3<1.27,>=1.21.1 in ./opt/anaconda3/lib/python3.9/site-packages (from requests<3,>=2->langchain>=0.0.333->langserve[client]) (1.26.11)\n",
      "Requirement already satisfied: greenlet!=0.4.17 in ./opt/anaconda3/lib/python3.9/site-packages (from SQLAlchemy<3,>=1.4->langchain>=0.0.333->langserve[client]) (1.1.1)\n",
      "Requirement already satisfied: mypy-extensions>=0.3.0 in ./opt/anaconda3/lib/python3.9/site-packages (from typing-inspect<1,>=0.4.0->dataclasses-json<0.7,>=0.5.7->langchain>=0.0.333->langserve[client]) (0.4.3)\n",
      "Note: you may need to restart the kernel to use updated packages.\n"
     ]
    }
   ],
   "source": [
    "pip install \"langserve[client]\""
   ]
  },
  {
   "cell_type": "code",
   "execution_count": 12,
   "id": "37b388db",
   "metadata": {},
   "outputs": [
    {
     "name": "stdout",
     "output_type": "stream",
     "text": [
      "Requirement already satisfied: langserve[server] in ./opt/anaconda3/lib/python3.9/site-packages (0.0.39)\n",
      "Requirement already satisfied: httpx>=0.23.0 in ./opt/anaconda3/lib/python3.9/site-packages (from langserve[server]) (0.26.0)\n",
      "Requirement already satisfied: langchain>=0.0.333 in ./opt/anaconda3/lib/python3.9/site-packages (from langserve[server]) (0.1.1)\n",
      "Requirement already satisfied: orjson>=2 in ./opt/anaconda3/lib/python3.9/site-packages (from langserve[server]) (3.9.10)\n",
      "Requirement already satisfied: pydantic>=1 in ./opt/anaconda3/lib/python3.9/site-packages (from langserve[server]) (1.10.6)\n",
      "Requirement already satisfied: fastapi<1,>=0.90.1 in ./opt/anaconda3/lib/python3.9/site-packages (from langserve[server]) (0.109.0)\n",
      "Requirement already satisfied: sse-starlette<2.0.0,>=1.3.0 in ./opt/anaconda3/lib/python3.9/site-packages (from langserve[server]) (1.8.2)\n",
      "Requirement already satisfied: starlette<0.36.0,>=0.35.0 in ./opt/anaconda3/lib/python3.9/site-packages (from fastapi<1,>=0.90.1->langserve[server]) (0.35.1)\n",
      "Requirement already satisfied: typing-extensions>=4.8.0 in ./opt/anaconda3/lib/python3.9/site-packages (from fastapi<1,>=0.90.1->langserve[server]) (4.9.0)\n",
      "Requirement already satisfied: anyio in ./opt/anaconda3/lib/python3.9/site-packages (from httpx>=0.23.0->langserve[server]) (3.5.0)\n",
      "Requirement already satisfied: certifi in ./opt/anaconda3/lib/python3.9/site-packages (from httpx>=0.23.0->langserve[server]) (2022.9.24)\n",
      "Requirement already satisfied: httpcore==1.* in ./opt/anaconda3/lib/python3.9/site-packages (from httpx>=0.23.0->langserve[server]) (1.0.2)\n",
      "Requirement already satisfied: idna in ./opt/anaconda3/lib/python3.9/site-packages (from httpx>=0.23.0->langserve[server]) (3.3)\n",
      "Requirement already satisfied: sniffio in ./opt/anaconda3/lib/python3.9/site-packages (from httpx>=0.23.0->langserve[server]) (1.2.0)\n",
      "Requirement already satisfied: h11<0.15,>=0.13 in ./opt/anaconda3/lib/python3.9/site-packages (from httpcore==1.*->httpx>=0.23.0->langserve[server]) (0.14.0)\n",
      "Requirement already satisfied: PyYAML>=5.3 in ./opt/anaconda3/lib/python3.9/site-packages (from langchain>=0.0.333->langserve[server]) (6.0)\n",
      "Requirement already satisfied: SQLAlchemy<3,>=1.4 in ./opt/anaconda3/lib/python3.9/site-packages (from langchain>=0.0.333->langserve[server]) (1.4.39)\n",
      "Requirement already satisfied: aiohttp<4.0.0,>=3.8.3 in ./opt/anaconda3/lib/python3.9/site-packages (from langchain>=0.0.333->langserve[server]) (3.9.1)\n",
      "Requirement already satisfied: async-timeout<5.0.0,>=4.0.0 in ./opt/anaconda3/lib/python3.9/site-packages (from langchain>=0.0.333->langserve[server]) (4.0.3)\n",
      "Requirement already satisfied: dataclasses-json<0.7,>=0.5.7 in ./opt/anaconda3/lib/python3.9/site-packages (from langchain>=0.0.333->langserve[server]) (0.6.3)\n",
      "Requirement already satisfied: jsonpatch<2.0,>=1.33 in ./opt/anaconda3/lib/python3.9/site-packages (from langchain>=0.0.333->langserve[server]) (1.33)\n",
      "Requirement already satisfied: langchain-community<0.1,>=0.0.13 in ./opt/anaconda3/lib/python3.9/site-packages (from langchain>=0.0.333->langserve[server]) (0.0.13)\n",
      "Requirement already satisfied: langchain-core<0.2,>=0.1.9 in ./opt/anaconda3/lib/python3.9/site-packages (from langchain>=0.0.333->langserve[server]) (0.1.11)\n",
      "Requirement already satisfied: langsmith<0.1.0,>=0.0.77 in ./opt/anaconda3/lib/python3.9/site-packages (from langchain>=0.0.333->langserve[server]) (0.0.81)\n",
      "Requirement already satisfied: numpy<2,>=1 in ./opt/anaconda3/lib/python3.9/site-packages (from langchain>=0.0.333->langserve[server]) (1.21.5)\n",
      "Requirement already satisfied: requests<3,>=2 in ./opt/anaconda3/lib/python3.9/site-packages (from langchain>=0.0.333->langserve[server]) (2.28.1)\n",
      "Requirement already satisfied: tenacity<9.0.0,>=8.1.0 in ./opt/anaconda3/lib/python3.9/site-packages (from langchain>=0.0.333->langserve[server]) (8.2.3)\n",
      "Requirement already satisfied: uvicorn in ./opt/anaconda3/lib/python3.9/site-packages (from sse-starlette<2.0.0,>=1.3.0->langserve[server]) (0.26.0)\n",
      "Requirement already satisfied: attrs>=17.3.0 in ./opt/anaconda3/lib/python3.9/site-packages (from aiohttp<4.0.0,>=3.8.3->langchain>=0.0.333->langserve[server]) (21.4.0)\n",
      "Requirement already satisfied: multidict<7.0,>=4.5 in ./opt/anaconda3/lib/python3.9/site-packages (from aiohttp<4.0.0,>=3.8.3->langchain>=0.0.333->langserve[server]) (6.0.4)\n",
      "Requirement already satisfied: yarl<2.0,>=1.0 in ./opt/anaconda3/lib/python3.9/site-packages (from aiohttp<4.0.0,>=3.8.3->langchain>=0.0.333->langserve[server]) (1.9.4)\n",
      "Requirement already satisfied: frozenlist>=1.1.1 in ./opt/anaconda3/lib/python3.9/site-packages (from aiohttp<4.0.0,>=3.8.3->langchain>=0.0.333->langserve[server]) (1.4.1)\n",
      "Requirement already satisfied: aiosignal>=1.1.2 in ./opt/anaconda3/lib/python3.9/site-packages (from aiohttp<4.0.0,>=3.8.3->langchain>=0.0.333->langserve[server]) (1.3.1)\n",
      "Requirement already satisfied: marshmallow<4.0.0,>=3.18.0 in ./opt/anaconda3/lib/python3.9/site-packages (from dataclasses-json<0.7,>=0.5.7->langchain>=0.0.333->langserve[server]) (3.20.2)\n",
      "Requirement already satisfied: typing-inspect<1,>=0.4.0 in ./opt/anaconda3/lib/python3.9/site-packages (from dataclasses-json<0.7,>=0.5.7->langchain>=0.0.333->langserve[server]) (0.9.0)\n",
      "Requirement already satisfied: jsonpointer>=1.9 in ./opt/anaconda3/lib/python3.9/site-packages (from jsonpatch<2.0,>=1.33->langchain>=0.0.333->langserve[server]) (2.4)\n",
      "Requirement already satisfied: packaging<24.0,>=23.2 in ./opt/anaconda3/lib/python3.9/site-packages (from langchain-core<0.2,>=0.1.9->langchain>=0.0.333->langserve[server]) (23.2)\n",
      "Requirement already satisfied: charset-normalizer<3,>=2 in ./opt/anaconda3/lib/python3.9/site-packages (from requests<3,>=2->langchain>=0.0.333->langserve[server]) (2.0.4)\n",
      "Requirement already satisfied: urllib3<1.27,>=1.21.1 in ./opt/anaconda3/lib/python3.9/site-packages (from requests<3,>=2->langchain>=0.0.333->langserve[server]) (1.26.11)\n",
      "Requirement already satisfied: greenlet!=0.4.17 in ./opt/anaconda3/lib/python3.9/site-packages (from SQLAlchemy<3,>=1.4->langchain>=0.0.333->langserve[server]) (1.1.1)\n",
      "Requirement already satisfied: click>=7.0 in ./opt/anaconda3/lib/python3.9/site-packages (from uvicorn->sse-starlette<2.0.0,>=1.3.0->langserve[server]) (8.0.4)\n",
      "Requirement already satisfied: mypy-extensions>=0.3.0 in ./opt/anaconda3/lib/python3.9/site-packages (from typing-inspect<1,>=0.4.0->dataclasses-json<0.7,>=0.5.7->langchain>=0.0.333->langserve[server]) (0.4.3)\n",
      "Note: you may need to restart the kernel to use updated packages.\n"
     ]
    }
   ],
   "source": [
    "pip install \"langserve[server]\""
   ]
  },
  {
   "cell_type": "code",
   "execution_count": 13,
   "id": "224dd14c",
   "metadata": {},
   "outputs": [
    {
     "name": "stdout",
     "output_type": "stream",
     "text": [
      "Collecting langchain-cli\n",
      "  Downloading langchain_cli-0.0.20-py3-none-any.whl.metadata (1.1 kB)\n",
      "Collecting gitpython<4.0.0,>=3.1.40 (from langchain-cli)\n",
      "  Downloading GitPython-3.1.41-py3-none-any.whl.metadata (14 kB)\n",
      "Requirement already satisfied: langserve>=0.0.16 in ./opt/anaconda3/lib/python3.9/site-packages (from langserve[all]>=0.0.16->langchain-cli) (0.0.39)\n",
      "Collecting tomlkit<0.13.0,>=0.12.2 (from langchain-cli)\n",
      "  Downloading tomlkit-0.12.3-py3-none-any.whl.metadata (2.7 kB)\n",
      "Collecting typer<0.10.0,>=0.9.0 (from typer[all]<0.10.0,>=0.9.0->langchain-cli)\n",
      "  Downloading typer-0.9.0-py3-none-any.whl (45 kB)\n",
      "\u001b[2K     \u001b[90m━━━━━━━━━━━━━━━━━━━━━━━━━━━━━━━━━━━━━━━\u001b[0m \u001b[32m45.9/45.9 kB\u001b[0m \u001b[31m698.1 kB/s\u001b[0m eta \u001b[36m0:00:00\u001b[0ma \u001b[36m0:00:01\u001b[0m\n",
      "\u001b[?25hCollecting uvicorn<0.24.0,>=0.23.2 (from langchain-cli)\n",
      "  Downloading uvicorn-0.23.2-py3-none-any.whl.metadata (6.2 kB)\n",
      "Collecting gitdb<5,>=4.0.1 (from gitpython<4.0.0,>=3.1.40->langchain-cli)\n",
      "  Downloading gitdb-4.0.11-py3-none-any.whl.metadata (1.2 kB)\n",
      "Requirement already satisfied: httpx>=0.23.0 in ./opt/anaconda3/lib/python3.9/site-packages (from langserve>=0.0.16->langserve[all]>=0.0.16->langchain-cli) (0.26.0)\n",
      "Requirement already satisfied: langchain>=0.0.333 in ./opt/anaconda3/lib/python3.9/site-packages (from langserve>=0.0.16->langserve[all]>=0.0.16->langchain-cli) (0.1.1)\n",
      "Requirement already satisfied: orjson>=2 in ./opt/anaconda3/lib/python3.9/site-packages (from langserve>=0.0.16->langserve[all]>=0.0.16->langchain-cli) (3.9.10)\n",
      "Requirement already satisfied: pydantic>=1 in ./opt/anaconda3/lib/python3.9/site-packages (from langserve>=0.0.16->langserve[all]>=0.0.16->langchain-cli) (1.10.6)\n",
      "Requirement already satisfied: fastapi<1,>=0.90.1 in ./opt/anaconda3/lib/python3.9/site-packages (from langserve[all]>=0.0.16->langchain-cli) (0.109.0)\n",
      "Requirement already satisfied: httpx-sse>=0.3.1 in ./opt/anaconda3/lib/python3.9/site-packages (from langserve[all]>=0.0.16->langchain-cli) (0.4.0)\n",
      "Requirement already satisfied: sse-starlette<2.0.0,>=1.3.0 in ./opt/anaconda3/lib/python3.9/site-packages (from langserve[all]>=0.0.16->langchain-cli) (1.8.2)\n",
      "Requirement already satisfied: click<9.0.0,>=7.1.1 in ./opt/anaconda3/lib/python3.9/site-packages (from typer<0.10.0,>=0.9.0->typer[all]<0.10.0,>=0.9.0->langchain-cli) (8.0.4)\n",
      "Requirement already satisfied: typing-extensions>=3.7.4.3 in ./opt/anaconda3/lib/python3.9/site-packages (from typer<0.10.0,>=0.9.0->typer[all]<0.10.0,>=0.9.0->langchain-cli) (4.9.0)\n",
      "Requirement already satisfied: colorama<0.5.0,>=0.4.3 in ./opt/anaconda3/lib/python3.9/site-packages (from typer[all]<0.10.0,>=0.9.0->langchain-cli) (0.4.5)\n",
      "Collecting shellingham<2.0.0,>=1.3.0 (from typer[all]<0.10.0,>=0.9.0->langchain-cli)\n",
      "  Downloading shellingham-1.5.4-py2.py3-none-any.whl.metadata (3.5 kB)\n",
      "Collecting rich<14.0.0,>=10.11.0 (from typer[all]<0.10.0,>=0.9.0->langchain-cli)\n",
      "  Downloading rich-13.7.0-py3-none-any.whl.metadata (18 kB)\n",
      "Requirement already satisfied: h11>=0.8 in ./opt/anaconda3/lib/python3.9/site-packages (from uvicorn<0.24.0,>=0.23.2->langchain-cli) (0.14.0)\n",
      "Requirement already satisfied: starlette<0.36.0,>=0.35.0 in ./opt/anaconda3/lib/python3.9/site-packages (from fastapi<1,>=0.90.1->langserve[all]>=0.0.16->langchain-cli) (0.35.1)\n",
      "Collecting smmap<6,>=3.0.1 (from gitdb<5,>=4.0.1->gitpython<4.0.0,>=3.1.40->langchain-cli)\n",
      "  Downloading smmap-5.0.1-py3-none-any.whl.metadata (4.3 kB)\n",
      "Requirement already satisfied: anyio in ./opt/anaconda3/lib/python3.9/site-packages (from httpx>=0.23.0->langserve>=0.0.16->langserve[all]>=0.0.16->langchain-cli) (3.5.0)\n",
      "Requirement already satisfied: certifi in ./opt/anaconda3/lib/python3.9/site-packages (from httpx>=0.23.0->langserve>=0.0.16->langserve[all]>=0.0.16->langchain-cli) (2022.9.24)\n",
      "Requirement already satisfied: httpcore==1.* in ./opt/anaconda3/lib/python3.9/site-packages (from httpx>=0.23.0->langserve>=0.0.16->langserve[all]>=0.0.16->langchain-cli) (1.0.2)\n",
      "Requirement already satisfied: idna in ./opt/anaconda3/lib/python3.9/site-packages (from httpx>=0.23.0->langserve>=0.0.16->langserve[all]>=0.0.16->langchain-cli) (3.3)\n",
      "Requirement already satisfied: sniffio in ./opt/anaconda3/lib/python3.9/site-packages (from httpx>=0.23.0->langserve>=0.0.16->langserve[all]>=0.0.16->langchain-cli) (1.2.0)\n",
      "Requirement already satisfied: PyYAML>=5.3 in ./opt/anaconda3/lib/python3.9/site-packages (from langchain>=0.0.333->langserve>=0.0.16->langserve[all]>=0.0.16->langchain-cli) (6.0)\n",
      "Requirement already satisfied: SQLAlchemy<3,>=1.4 in ./opt/anaconda3/lib/python3.9/site-packages (from langchain>=0.0.333->langserve>=0.0.16->langserve[all]>=0.0.16->langchain-cli) (1.4.39)\n",
      "Requirement already satisfied: aiohttp<4.0.0,>=3.8.3 in ./opt/anaconda3/lib/python3.9/site-packages (from langchain>=0.0.333->langserve>=0.0.16->langserve[all]>=0.0.16->langchain-cli) (3.9.1)\n",
      "Requirement already satisfied: async-timeout<5.0.0,>=4.0.0 in ./opt/anaconda3/lib/python3.9/site-packages (from langchain>=0.0.333->langserve>=0.0.16->langserve[all]>=0.0.16->langchain-cli) (4.0.3)\n",
      "Requirement already satisfied: dataclasses-json<0.7,>=0.5.7 in ./opt/anaconda3/lib/python3.9/site-packages (from langchain>=0.0.333->langserve>=0.0.16->langserve[all]>=0.0.16->langchain-cli) (0.6.3)\n",
      "Requirement already satisfied: jsonpatch<2.0,>=1.33 in ./opt/anaconda3/lib/python3.9/site-packages (from langchain>=0.0.333->langserve>=0.0.16->langserve[all]>=0.0.16->langchain-cli) (1.33)\n",
      "Requirement already satisfied: langchain-community<0.1,>=0.0.13 in ./opt/anaconda3/lib/python3.9/site-packages (from langchain>=0.0.333->langserve>=0.0.16->langserve[all]>=0.0.16->langchain-cli) (0.0.13)\n",
      "Requirement already satisfied: langchain-core<0.2,>=0.1.9 in ./opt/anaconda3/lib/python3.9/site-packages (from langchain>=0.0.333->langserve>=0.0.16->langserve[all]>=0.0.16->langchain-cli) (0.1.11)\n",
      "Requirement already satisfied: langsmith<0.1.0,>=0.0.77 in ./opt/anaconda3/lib/python3.9/site-packages (from langchain>=0.0.333->langserve>=0.0.16->langserve[all]>=0.0.16->langchain-cli) (0.0.81)\n",
      "Requirement already satisfied: numpy<2,>=1 in ./opt/anaconda3/lib/python3.9/site-packages (from langchain>=0.0.333->langserve>=0.0.16->langserve[all]>=0.0.16->langchain-cli) (1.21.5)\n",
      "Requirement already satisfied: requests<3,>=2 in ./opt/anaconda3/lib/python3.9/site-packages (from langchain>=0.0.333->langserve>=0.0.16->langserve[all]>=0.0.16->langchain-cli) (2.28.1)\n",
      "Requirement already satisfied: tenacity<9.0.0,>=8.1.0 in ./opt/anaconda3/lib/python3.9/site-packages (from langchain>=0.0.333->langserve>=0.0.16->langserve[all]>=0.0.16->langchain-cli) (8.2.3)\n",
      "Collecting markdown-it-py>=2.2.0 (from rich<14.0.0,>=10.11.0->typer[all]<0.10.0,>=0.9.0->langchain-cli)\n",
      "  Downloading markdown_it_py-3.0.0-py3-none-any.whl.metadata (6.9 kB)\n",
      "Collecting pygments<3.0.0,>=2.13.0 (from rich<14.0.0,>=10.11.0->typer[all]<0.10.0,>=0.9.0->langchain-cli)\n",
      "  Downloading pygments-2.17.2-py3-none-any.whl.metadata (2.6 kB)\n",
      "Requirement already satisfied: attrs>=17.3.0 in ./opt/anaconda3/lib/python3.9/site-packages (from aiohttp<4.0.0,>=3.8.3->langchain>=0.0.333->langserve>=0.0.16->langserve[all]>=0.0.16->langchain-cli) (21.4.0)\n",
      "Requirement already satisfied: multidict<7.0,>=4.5 in ./opt/anaconda3/lib/python3.9/site-packages (from aiohttp<4.0.0,>=3.8.3->langchain>=0.0.333->langserve>=0.0.16->langserve[all]>=0.0.16->langchain-cli) (6.0.4)\n",
      "Requirement already satisfied: yarl<2.0,>=1.0 in ./opt/anaconda3/lib/python3.9/site-packages (from aiohttp<4.0.0,>=3.8.3->langchain>=0.0.333->langserve>=0.0.16->langserve[all]>=0.0.16->langchain-cli) (1.9.4)\n",
      "Requirement already satisfied: frozenlist>=1.1.1 in ./opt/anaconda3/lib/python3.9/site-packages (from aiohttp<4.0.0,>=3.8.3->langchain>=0.0.333->langserve>=0.0.16->langserve[all]>=0.0.16->langchain-cli) (1.4.1)\n",
      "Requirement already satisfied: aiosignal>=1.1.2 in ./opt/anaconda3/lib/python3.9/site-packages (from aiohttp<4.0.0,>=3.8.3->langchain>=0.0.333->langserve>=0.0.16->langserve[all]>=0.0.16->langchain-cli) (1.3.1)\n",
      "Requirement already satisfied: marshmallow<4.0.0,>=3.18.0 in ./opt/anaconda3/lib/python3.9/site-packages (from dataclasses-json<0.7,>=0.5.7->langchain>=0.0.333->langserve>=0.0.16->langserve[all]>=0.0.16->langchain-cli) (3.20.2)\n",
      "Requirement already satisfied: typing-inspect<1,>=0.4.0 in ./opt/anaconda3/lib/python3.9/site-packages (from dataclasses-json<0.7,>=0.5.7->langchain>=0.0.333->langserve>=0.0.16->langserve[all]>=0.0.16->langchain-cli) (0.9.0)\n",
      "Requirement already satisfied: jsonpointer>=1.9 in ./opt/anaconda3/lib/python3.9/site-packages (from jsonpatch<2.0,>=1.33->langchain>=0.0.333->langserve>=0.0.16->langserve[all]>=0.0.16->langchain-cli) (2.4)\n",
      "Requirement already satisfied: packaging<24.0,>=23.2 in ./opt/anaconda3/lib/python3.9/site-packages (from langchain-core<0.2,>=0.1.9->langchain>=0.0.333->langserve>=0.0.16->langserve[all]>=0.0.16->langchain-cli) (23.2)\n",
      "Collecting mdurl~=0.1 (from markdown-it-py>=2.2.0->rich<14.0.0,>=10.11.0->typer[all]<0.10.0,>=0.9.0->langchain-cli)\n",
      "  Downloading mdurl-0.1.2-py3-none-any.whl (10.0 kB)\n",
      "Requirement already satisfied: charset-normalizer<3,>=2 in ./opt/anaconda3/lib/python3.9/site-packages (from requests<3,>=2->langchain>=0.0.333->langserve>=0.0.16->langserve[all]>=0.0.16->langchain-cli) (2.0.4)\n",
      "Requirement already satisfied: urllib3<1.27,>=1.21.1 in ./opt/anaconda3/lib/python3.9/site-packages (from requests<3,>=2->langchain>=0.0.333->langserve>=0.0.16->langserve[all]>=0.0.16->langchain-cli) (1.26.11)\n",
      "Requirement already satisfied: greenlet!=0.4.17 in ./opt/anaconda3/lib/python3.9/site-packages (from SQLAlchemy<3,>=1.4->langchain>=0.0.333->langserve>=0.0.16->langserve[all]>=0.0.16->langchain-cli) (1.1.1)\n",
      "Requirement already satisfied: mypy-extensions>=0.3.0 in ./opt/anaconda3/lib/python3.9/site-packages (from typing-inspect<1,>=0.4.0->dataclasses-json<0.7,>=0.5.7->langchain>=0.0.333->langserve>=0.0.16->langserve[all]>=0.0.16->langchain-cli) (0.4.3)\n",
      "Downloading langchain_cli-0.0.20-py3-none-any.whl (41 kB)\n",
      "\u001b[2K   \u001b[90m━━━━━━━━━━━━━━━━━━━━━━━━━━━━━━━━━━━━━━━━\u001b[0m \u001b[32m41.3/41.3 kB\u001b[0m \u001b[31m1.3 MB/s\u001b[0m eta \u001b[36m0:00:00\u001b[0m\n",
      "\u001b[?25hDownloading GitPython-3.1.41-py3-none-any.whl (196 kB)\n",
      "\u001b[2K   \u001b[90m━━━━━━━━━━━━━━━━━━━━━━━━━━━━━━━━━━━━━━━━\u001b[0m \u001b[32m196.4/196.4 kB\u001b[0m \u001b[31m2.9 MB/s\u001b[0m eta \u001b[36m0:00:00\u001b[0m \u001b[36m0:00:01\u001b[0m\n",
      "\u001b[?25hDownloading tomlkit-0.12.3-py3-none-any.whl (37 kB)\n",
      "Downloading uvicorn-0.23.2-py3-none-any.whl (59 kB)\n",
      "\u001b[2K   \u001b[90m━━━━━━━━━━━━━━━━━━━━━━━━━━━━━━━━━━━━━━━━\u001b[0m \u001b[32m59.5/59.5 kB\u001b[0m \u001b[31m2.8 MB/s\u001b[0m eta \u001b[36m0:00:00\u001b[0m\n",
      "\u001b[?25hDownloading gitdb-4.0.11-py3-none-any.whl (62 kB)\n",
      "\u001b[2K   \u001b[90m━━━━━━━━━━━━━━━━━━━━━━━━━━━━━━━━━━━━━━━━\u001b[0m \u001b[32m62.7/62.7 kB\u001b[0m \u001b[31m3.0 MB/s\u001b[0m eta \u001b[36m0:00:00\u001b[0m\n",
      "\u001b[?25hDownloading rich-13.7.0-py3-none-any.whl (240 kB)\n",
      "\u001b[2K   \u001b[90m━━━━━━━━━━━━━━━━━━━━━━━━━━━━━━━━━━━━━━━━\u001b[0m \u001b[32m240.6/240.6 kB\u001b[0m \u001b[31m8.1 MB/s\u001b[0m eta \u001b[36m0:00:00\u001b[0m\n",
      "\u001b[?25hDownloading shellingham-1.5.4-py2.py3-none-any.whl (9.8 kB)\n",
      "Downloading markdown_it_py-3.0.0-py3-none-any.whl (87 kB)\n",
      "\u001b[2K   \u001b[90m━━━━━━━━━━━━━━━━━━━━━━━━━━━━━━━━━━━━━━━━\u001b[0m \u001b[32m87.5/87.5 kB\u001b[0m \u001b[31m3.9 MB/s\u001b[0m eta \u001b[36m0:00:00\u001b[0m\n",
      "\u001b[?25hDownloading pygments-2.17.2-py3-none-any.whl (1.2 MB)\n",
      "\u001b[2K   \u001b[90m━━━━━━━━━━━━━━━━━━━━━━━━━━━━━━━━━━━━━━━━\u001b[0m \u001b[32m1.2/1.2 MB\u001b[0m \u001b[31m13.3 MB/s\u001b[0m eta \u001b[36m0:00:00\u001b[0m00:01\u001b[0m00:01\u001b[0m\n",
      "\u001b[?25hDownloading smmap-5.0.1-py3-none-any.whl (24 kB)\n",
      "Installing collected packages: uvicorn, typer, tomlkit, smmap, shellingham, pygments, mdurl, markdown-it-py, gitdb, rich, gitpython, langchain-cli\n",
      "  Attempting uninstall: uvicorn\n",
      "    Found existing installation: uvicorn 0.26.0\n",
      "    Uninstalling uvicorn-0.26.0:\n",
      "      Successfully uninstalled uvicorn-0.26.0\n",
      "  Attempting uninstall: typer\n",
      "    Found existing installation: typer 0.7.0\n",
      "    Uninstalling typer-0.7.0:\n",
      "      Successfully uninstalled typer-0.7.0\n",
      "  Attempting uninstall: tomlkit\n",
      "    Found existing installation: tomlkit 0.11.1\n",
      "    Uninstalling tomlkit-0.11.1:\n",
      "      Successfully uninstalled tomlkit-0.11.1\n",
      "  Attempting uninstall: pygments\n",
      "    Found existing installation: Pygments 2.11.2\n",
      "    Uninstalling Pygments-2.11.2:\n",
      "      Successfully uninstalled Pygments-2.11.2\n",
      "\u001b[31mERROR: pip's dependency resolver does not currently take into account all the packages that are installed. This behaviour is the source of the following dependency conflicts.\n",
      "spyder 5.3.3 requires pyqt5<5.16, which is not installed.\n",
      "spyder 5.3.3 requires pyqtwebengine<5.16, which is not installed.\n",
      "spacy 3.5.1 requires typer<0.8.0,>=0.3.0, but you have typer 0.9.0 which is incompatible.\u001b[0m\u001b[31m\n",
      "\u001b[0mSuccessfully installed gitdb-4.0.11 gitpython-3.1.41 langchain-cli-0.0.20 markdown-it-py-3.0.0 mdurl-0.1.2 pygments-2.17.2 rich-13.7.0 shellingham-1.5.4 smmap-5.0.1 tomlkit-0.12.3 typer-0.9.0 uvicorn-0.23.2\n",
      "Note: you may need to restart the kernel to use updated packages.\n"
     ]
    }
   ],
   "source": [
    "pip install langchain-cli"
   ]
  },
  {
   "cell_type": "code",
   "execution_count": null,
   "id": "02fe1743",
   "metadata": {},
   "outputs": [
    {
     "name": "stdout",
     "output_type": "stream",
     "text": [
      "Requirement already satisfied: langserve[all] in ./opt/anaconda3/lib/python3.9/site-packages (0.0.39)\n",
      "Requirement already satisfied: httpx>=0.23.0 in ./opt/anaconda3/lib/python3.9/site-packages (from langserve[all]) (0.26.0)\n",
      "Requirement already satisfied: langchain>=0.0.333 in ./opt/anaconda3/lib/python3.9/site-packages (from langserve[all]) (0.1.1)\n",
      "Requirement already satisfied: orjson>=2 in ./opt/anaconda3/lib/python3.9/site-packages (from langserve[all]) (3.9.10)\n",
      "Requirement already satisfied: pydantic>=1 in ./opt/anaconda3/lib/python3.9/site-packages (from langserve[all]) (1.10.6)\n",
      "Requirement already satisfied: fastapi<1,>=0.90.1 in ./opt/anaconda3/lib/python3.9/site-packages (from langserve[all]) (0.109.0)\n",
      "Requirement already satisfied: httpx-sse>=0.3.1 in ./opt/anaconda3/lib/python3.9/site-packages (from langserve[all]) (0.4.0)\n",
      "Requirement already satisfied: sse-starlette<2.0.0,>=1.3.0 in ./opt/anaconda3/lib/python3.9/site-packages (from langserve[all]) (1.8.2)\n",
      "Requirement already satisfied: starlette<0.36.0,>=0.35.0 in ./opt/anaconda3/lib/python3.9/site-packages (from fastapi<1,>=0.90.1->langserve[all]) (0.35.1)\n",
      "Requirement already satisfied: typing-extensions>=4.8.0 in ./opt/anaconda3/lib/python3.9/site-packages (from fastapi<1,>=0.90.1->langserve[all]) (4.9.0)\n",
      "Requirement already satisfied: anyio in ./opt/anaconda3/lib/python3.9/site-packages (from httpx>=0.23.0->langserve[all]) (3.5.0)\n",
      "Requirement already satisfied: certifi in ./opt/anaconda3/lib/python3.9/site-packages (from httpx>=0.23.0->langserve[all]) (2022.9.24)\n",
      "Requirement already satisfied: httpcore==1.* in ./opt/anaconda3/lib/python3.9/site-packages (from httpx>=0.23.0->langserve[all]) (1.0.2)\n",
      "Requirement already satisfied: idna in ./opt/anaconda3/lib/python3.9/site-packages (from httpx>=0.23.0->langserve[all]) (3.3)\n",
      "Requirement already satisfied: sniffio in ./opt/anaconda3/lib/python3.9/site-packages (from httpx>=0.23.0->langserve[all]) (1.2.0)\n",
      "Requirement already satisfied: h11<0.15,>=0.13 in ./opt/anaconda3/lib/python3.9/site-packages (from httpcore==1.*->httpx>=0.23.0->langserve[all]) (0.14.0)\n",
      "Requirement already satisfied: PyYAML>=5.3 in ./opt/anaconda3/lib/python3.9/site-packages (from langchain>=0.0.333->langserve[all]) (6.0)\n",
      "Requirement already satisfied: SQLAlchemy<3,>=1.4 in ./opt/anaconda3/lib/python3.9/site-packages (from langchain>=0.0.333->langserve[all]) (1.4.39)\n",
      "Requirement already satisfied: aiohttp<4.0.0,>=3.8.3 in ./opt/anaconda3/lib/python3.9/site-packages (from langchain>=0.0.333->langserve[all]) (3.9.1)\n",
      "Requirement already satisfied: async-timeout<5.0.0,>=4.0.0 in ./opt/anaconda3/lib/python3.9/site-packages (from langchain>=0.0.333->langserve[all]) (4.0.3)\n",
      "Requirement already satisfied: dataclasses-json<0.7,>=0.5.7 in ./opt/anaconda3/lib/python3.9/site-packages (from langchain>=0.0.333->langserve[all]) (0.6.3)\n",
      "Requirement already satisfied: jsonpatch<2.0,>=1.33 in ./opt/anaconda3/lib/python3.9/site-packages (from langchain>=0.0.333->langserve[all]) (1.33)\n",
      "Requirement already satisfied: langchain-community<0.1,>=0.0.13 in ./opt/anaconda3/lib/python3.9/site-packages (from langchain>=0.0.333->langserve[all]) (0.0.13)\n",
      "Requirement already satisfied: langchain-core<0.2,>=0.1.9 in ./opt/anaconda3/lib/python3.9/site-packages (from langchain>=0.0.333->langserve[all]) (0.1.11)\n",
      "Requirement already satisfied: langsmith<0.1.0,>=0.0.77 in ./opt/anaconda3/lib/python3.9/site-packages (from langchain>=0.0.333->langserve[all]) (0.0.81)\n",
      "Requirement already satisfied: numpy<2,>=1 in ./opt/anaconda3/lib/python3.9/site-packages (from langchain>=0.0.333->langserve[all]) (1.21.5)\n",
      "Requirement already satisfied: requests<3,>=2 in ./opt/anaconda3/lib/python3.9/site-packages (from langchain>=0.0.333->langserve[all]) (2.28.1)\n",
      "Requirement already satisfied: tenacity<9.0.0,>=8.1.0 in ./opt/anaconda3/lib/python3.9/site-packages (from langchain>=0.0.333->langserve[all]) (8.2.3)\n",
      "Requirement already satisfied: uvicorn in ./opt/anaconda3/lib/python3.9/site-packages (from sse-starlette<2.0.0,>=1.3.0->langserve[all]) (0.23.2)\n",
      "Requirement already satisfied: attrs>=17.3.0 in ./opt/anaconda3/lib/python3.9/site-packages (from aiohttp<4.0.0,>=3.8.3->langchain>=0.0.333->langserve[all]) (21.4.0)\n",
      "Requirement already satisfied: multidict<7.0,>=4.5 in ./opt/anaconda3/lib/python3.9/site-packages (from aiohttp<4.0.0,>=3.8.3->langchain>=0.0.333->langserve[all]) (6.0.4)\n",
      "Requirement already satisfied: yarl<2.0,>=1.0 in ./opt/anaconda3/lib/python3.9/site-packages (from aiohttp<4.0.0,>=3.8.3->langchain>=0.0.333->langserve[all]) (1.9.4)\n",
      "Requirement already satisfied: frozenlist>=1.1.1 in ./opt/anaconda3/lib/python3.9/site-packages (from aiohttp<4.0.0,>=3.8.3->langchain>=0.0.333->langserve[all]) (1.4.1)\n",
      "Requirement already satisfied: aiosignal>=1.1.2 in ./opt/anaconda3/lib/python3.9/site-packages (from aiohttp<4.0.0,>=3.8.3->langchain>=0.0.333->langserve[all]) (1.3.1)\n",
      "Requirement already satisfied: marshmallow<4.0.0,>=3.18.0 in ./opt/anaconda3/lib/python3.9/site-packages (from dataclasses-json<0.7,>=0.5.7->langchain>=0.0.333->langserve[all]) (3.20.2)\n",
      "Requirement already satisfied: typing-inspect<1,>=0.4.0 in ./opt/anaconda3/lib/python3.9/site-packages (from dataclasses-json<0.7,>=0.5.7->langchain>=0.0.333->langserve[all]) (0.9.0)\n",
      "Requirement already satisfied: jsonpointer>=1.9 in ./opt/anaconda3/lib/python3.9/site-packages (from jsonpatch<2.0,>=1.33->langchain>=0.0.333->langserve[all]) (2.4)\n",
      "Requirement already satisfied: packaging<24.0,>=23.2 in ./opt/anaconda3/lib/python3.9/site-packages (from langchain-core<0.2,>=0.1.9->langchain>=0.0.333->langserve[all]) (23.2)\n",
      "Requirement already satisfied: charset-normalizer<3,>=2 in ./opt/anaconda3/lib/python3.9/site-packages (from requests<3,>=2->langchain>=0.0.333->langserve[all]) (2.0.4)\n",
      "Requirement already satisfied: urllib3<1.27,>=1.21.1 in ./opt/anaconda3/lib/python3.9/site-packages (from requests<3,>=2->langchain>=0.0.333->langserve[all]) (1.26.11)\n",
      "Requirement already satisfied: greenlet!=0.4.17 in ./opt/anaconda3/lib/python3.9/site-packages (from SQLAlchemy<3,>=1.4->langchain>=0.0.333->langserve[all]) (1.1.1)\n",
      "Requirement already satisfied: click>=7.0 in ./opt/anaconda3/lib/python3.9/site-packages (from uvicorn->sse-starlette<2.0.0,>=1.3.0->langserve[all]) (8.0.4)\n",
      "Requirement already satisfied: mypy-extensions>=0.3.0 in ./opt/anaconda3/lib/python3.9/site-packages (from typing-inspect<1,>=0.4.0->dataclasses-json<0.7,>=0.5.7->langchain>=0.0.333->langserve[all]) (0.4.3)\n"
     ]
    }
   ],
   "source": [
    "pip install \"langserve[all]\""
   ]
  },
  {
   "cell_type": "code",
   "execution_count": null,
   "id": "d5c40664",
   "metadata": {},
   "outputs": [],
   "source": []
  }
 ],
 "metadata": {
  "kernelspec": {
   "display_name": "Python 3 (ipykernel)",
   "language": "python",
   "name": "python3"
  },
  "language_info": {
   "codemirror_mode": {
    "name": "ipython",
    "version": 3
   },
   "file_extension": ".py",
   "mimetype": "text/x-python",
   "name": "python",
   "nbconvert_exporter": "python",
   "pygments_lexer": "ipython3",
   "version": "3.9.13"
  }
 },
 "nbformat": 4,
 "nbformat_minor": 5
}
